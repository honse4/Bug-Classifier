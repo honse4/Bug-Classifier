{
 "cells": [
  {
   "cell_type": "code",
   "execution_count": 1,
   "id": "4838459f-badd-4aa1-903a-b5cde3cb7d9b",
   "metadata": {},
   "outputs": [
    {
     "name": "stderr",
     "output_type": "stream",
     "text": [
      "[nltk_data] Downloading package punkt to\n",
      "[nltk_data]     C:\\Users\\vasav\\AppData\\Roaming\\nltk_data...\n",
      "[nltk_data]   Package punkt is already up-to-date!\n"
     ]
    }
   ],
   "source": [
    "import numpy as np\n",
    "import pandas as pd\n",
    "import matplotlib.pyplot as plt\n",
    "import seaborn as sns\n",
    "import funcs_vis as fn_vis\n",
    "import funcs_prep as fn_prep\n",
    "import funcs_ml as fn_ml\n",
    "import nltk\n",
    "from sklearn.feature_extraction.text import TfidfVectorizer\n",
    "from nltk.corpus import stopwords\n",
    "from nltk.stem import WordNetLemmatizer\n",
    "from sklearn.model_selection import train_test_split\n",
    "from sklearn.linear_model import LogisticRegression\n",
    "from sklearn.ensemble import RandomForestClassifier\n",
    "from sklearn.preprocessing import LabelEncoder\n",
    "from sklearn.svm import SVC, LinearSVC"
   ]
  },
  {
   "cell_type": "code",
   "execution_count": 2,
   "id": "5a4f7923-a670-4ad4-8368-8902ae32bb7d",
   "metadata": {},
   "outputs": [],
   "source": [
    "df_eclipse = pd.read_csv('data/eclipse_bug_report_data.csv')"
   ]
  },
  {
   "cell_type": "code",
   "execution_count": 3,
   "id": "a19346d1-04e4-4858-8eb6-cf2159c8eb82",
   "metadata": {},
   "outputs": [
    {
     "data": {
      "text/html": [
       "<div>\n",
       "<style scoped>\n",
       "    .dataframe tbody tr th:only-of-type {\n",
       "        vertical-align: middle;\n",
       "    }\n",
       "\n",
       "    .dataframe tbody tr th {\n",
       "        vertical-align: top;\n",
       "    }\n",
       "\n",
       "    .dataframe thead th {\n",
       "        text-align: right;\n",
       "    }\n",
       "</style>\n",
       "<table border=\"1\" class=\"dataframe\">\n",
       "  <thead>\n",
       "    <tr style=\"text-align: right;\">\n",
       "      <th></th>\n",
       "      <th>bug_id</th>\n",
       "      <th>creation_date</th>\n",
       "      <th>component_name</th>\n",
       "      <th>product_name</th>\n",
       "      <th>short_description</th>\n",
       "      <th>long_description</th>\n",
       "      <th>assignee_name</th>\n",
       "      <th>reporter_name</th>\n",
       "      <th>resolution_category</th>\n",
       "      <th>resolution_code</th>\n",
       "      <th>status_category</th>\n",
       "      <th>status_code</th>\n",
       "      <th>update_date</th>\n",
       "      <th>quantity_of_votes</th>\n",
       "      <th>quantity_of_comments</th>\n",
       "      <th>resolution_date</th>\n",
       "      <th>bug_fix_time</th>\n",
       "      <th>severity_category</th>\n",
       "      <th>severity_code</th>\n",
       "      <th>label</th>\n",
       "    </tr>\n",
       "  </thead>\n",
       "  <tbody>\n",
       "    <tr>\n",
       "      <th>0</th>\n",
       "      <td>RECOMMENDERS-467951</td>\n",
       "      <td>2015-05-22</td>\n",
       "      <td>Core</td>\n",
       "      <td>RECOMMENDERS</td>\n",
       "      <td>LogTraceException in ProposalUtils.toMethodNam...</td>\n",
       "      <td>The following incident was reported via the au...</td>\n",
       "      <td>recommenders-inbox</td>\n",
       "      <td>error-reports-inbox</td>\n",
       "      <td>fixed</td>\n",
       "      <td>1</td>\n",
       "      <td>closed</td>\n",
       "      <td>6</td>\n",
       "      <td>2015-05-27</td>\n",
       "      <td>0</td>\n",
       "      <td>2</td>\n",
       "      <td>2015-05-27</td>\n",
       "      <td>5</td>\n",
       "      <td>normal</td>\n",
       "      <td>2</td>\n",
       "      <td>Functional</td>\n",
       "    </tr>\n",
       "    <tr>\n",
       "      <th>1</th>\n",
       "      <td>QVTO-463396</td>\n",
       "      <td>2015-03-29</td>\n",
       "      <td>Engine</td>\n",
       "      <td>QVTO</td>\n",
       "      <td>CCE in DecorationNodeImpl.eSet (159)</td>\n",
       "      <td>CCE in DecorationNodeImpl.eSet (159)</td>\n",
       "      <td>serg.boyko2011</td>\n",
       "      <td>error-reports-inbox</td>\n",
       "      <td>fixed</td>\n",
       "      <td>1</td>\n",
       "      <td>resolved</td>\n",
       "      <td>4</td>\n",
       "      <td>2015-04-01</td>\n",
       "      <td>0</td>\n",
       "      <td>8</td>\n",
       "      <td>2015-03-31</td>\n",
       "      <td>2</td>\n",
       "      <td>normal</td>\n",
       "      <td>2</td>\n",
       "      <td>Functional</td>\n",
       "    </tr>\n",
       "    <tr>\n",
       "      <th>2</th>\n",
       "      <td>EQUINOX-530069</td>\n",
       "      <td>2018-01-20</td>\n",
       "      <td>Compendium</td>\n",
       "      <td>EQUINOX</td>\n",
       "      <td>[http servlet] During dispatching javax.servle...</td>\n",
       "      <td>Original issue https://issues.liferay.com/brow...</td>\n",
       "      <td>raymond.auge</td>\n",
       "      <td>raymond.auge</td>\n",
       "      <td>fixed</td>\n",
       "      <td>1</td>\n",
       "      <td>resolved</td>\n",
       "      <td>4</td>\n",
       "      <td>2018-01-22</td>\n",
       "      <td>0</td>\n",
       "      <td>3</td>\n",
       "      <td>2018-01-22</td>\n",
       "      <td>2</td>\n",
       "      <td>normal</td>\n",
       "      <td>2</td>\n",
       "      <td>Infrastructure</td>\n",
       "    </tr>\n",
       "    <tr>\n",
       "      <th>3</th>\n",
       "      <td>NATTABLE-422482</td>\n",
       "      <td>2013-11-25</td>\n",
       "      <td>Core</td>\n",
       "      <td>NATTABLE</td>\n",
       "      <td>Left border of NatTable is not drawn</td>\n",
       "      <td>Rendering a NatTable on a Composite with margi...</td>\n",
       "      <td>dirk.fauth</td>\n",
       "      <td>dirk.fauth</td>\n",
       "      <td>fixed</td>\n",
       "      <td>1</td>\n",
       "      <td>closed</td>\n",
       "      <td>6</td>\n",
       "      <td>2014-07-23</td>\n",
       "      <td>0</td>\n",
       "      <td>3</td>\n",
       "      <td>2013-11-25</td>\n",
       "      <td>0</td>\n",
       "      <td>normal</td>\n",
       "      <td>2</td>\n",
       "      <td>Usability</td>\n",
       "    </tr>\n",
       "    <tr>\n",
       "      <th>4</th>\n",
       "      <td>WTP_JAVA_EE_TOOLS-116294</td>\n",
       "      <td>2005-11-14</td>\n",
       "      <td>jst.j2ee</td>\n",
       "      <td>WTP_JAVA_EE_TOOLS</td>\n",
       "      <td>NPE while importing EAR with utility jar</td>\n",
       "      <td>Import and EAR which has EJb and Ejb client tr...</td>\n",
       "      <td>jsholl</td>\n",
       "      <td>nagrawal</td>\n",
       "      <td>fixed</td>\n",
       "      <td>1</td>\n",
       "      <td>closed</td>\n",
       "      <td>6</td>\n",
       "      <td>2005-12-09</td>\n",
       "      <td>0</td>\n",
       "      <td>4</td>\n",
       "      <td>2005-11-15</td>\n",
       "      <td>1</td>\n",
       "      <td>blocker</td>\n",
       "      <td>6</td>\n",
       "      <td>Functional</td>\n",
       "    </tr>\n",
       "  </tbody>\n",
       "</table>\n",
       "</div>"
      ],
      "text/plain": [
       "                     bug_id creation_date component_name       product_name  \\\n",
       "0       RECOMMENDERS-467951    2015-05-22           Core       RECOMMENDERS   \n",
       "1               QVTO-463396    2015-03-29         Engine               QVTO   \n",
       "2            EQUINOX-530069    2018-01-20     Compendium            EQUINOX   \n",
       "3           NATTABLE-422482    2013-11-25           Core           NATTABLE   \n",
       "4  WTP_JAVA_EE_TOOLS-116294    2005-11-14       jst.j2ee  WTP_JAVA_EE_TOOLS   \n",
       "\n",
       "                                   short_description  \\\n",
       "0  LogTraceException in ProposalUtils.toMethodNam...   \n",
       "1               CCE in DecorationNodeImpl.eSet (159)   \n",
       "2  [http servlet] During dispatching javax.servle...   \n",
       "3               Left border of NatTable is not drawn   \n",
       "4           NPE while importing EAR with utility jar   \n",
       "\n",
       "                                    long_description       assignee_name  \\\n",
       "0  The following incident was reported via the au...  recommenders-inbox   \n",
       "1               CCE in DecorationNodeImpl.eSet (159)      serg.boyko2011   \n",
       "2  Original issue https://issues.liferay.com/brow...        raymond.auge   \n",
       "3  Rendering a NatTable on a Composite with margi...          dirk.fauth   \n",
       "4  Import and EAR which has EJb and Ejb client tr...              jsholl   \n",
       "\n",
       "         reporter_name resolution_category  resolution_code status_category  \\\n",
       "0  error-reports-inbox               fixed                1          closed   \n",
       "1  error-reports-inbox               fixed                1        resolved   \n",
       "2         raymond.auge               fixed                1        resolved   \n",
       "3           dirk.fauth               fixed                1          closed   \n",
       "4             nagrawal               fixed                1          closed   \n",
       "\n",
       "   status_code update_date  quantity_of_votes  quantity_of_comments  \\\n",
       "0            6  2015-05-27                  0                     2   \n",
       "1            4  2015-04-01                  0                     8   \n",
       "2            4  2018-01-22                  0                     3   \n",
       "3            6  2014-07-23                  0                     3   \n",
       "4            6  2005-12-09                  0                     4   \n",
       "\n",
       "  resolution_date  bug_fix_time severity_category  severity_code  \\\n",
       "0      2015-05-27             5            normal              2   \n",
       "1      2015-03-31             2            normal              2   \n",
       "2      2018-01-22             2            normal              2   \n",
       "3      2013-11-25             0            normal              2   \n",
       "4      2005-11-15             1           blocker              6   \n",
       "\n",
       "            label  \n",
       "0      Functional  \n",
       "1      Functional  \n",
       "2  Infrastructure  \n",
       "3       Usability  \n",
       "4      Functional  "
      ]
     },
     "execution_count": 3,
     "metadata": {},
     "output_type": "execute_result"
    }
   ],
   "source": [
    "df_eclipse.head()"
   ]
  },
  {
   "cell_type": "code",
   "execution_count": 4,
   "id": "fdd45619-9bf8-42d3-a73c-512fd5a188c5",
   "metadata": {},
   "outputs": [
    {
     "data": {
      "text/plain": [
       "(9609, 20)"
      ]
     },
     "execution_count": 4,
     "metadata": {},
     "output_type": "execute_result"
    }
   ],
   "source": [
    "df_eclipse.shape"
   ]
  },
  {
   "cell_type": "code",
   "execution_count": 5,
   "id": "4cd615d2-82b4-42b7-84e8-5e11231d8c67",
   "metadata": {},
   "outputs": [
    {
     "data": {
      "text/plain": [
       "bug_id                  9609\n",
       "creation_date           9609\n",
       "component_name          9609\n",
       "product_name            9609\n",
       "short_description       9609\n",
       "long_description        9540\n",
       "assignee_name           9609\n",
       "reporter_name           9609\n",
       "resolution_category     9609\n",
       "resolution_code         9609\n",
       "status_category         9609\n",
       "status_code             9609\n",
       "update_date             9609\n",
       "quantity_of_votes       9609\n",
       "quantity_of_comments    9609\n",
       "resolution_date         9609\n",
       "bug_fix_time            9609\n",
       "severity_category       9609\n",
       "severity_code           9609\n",
       "label                    360\n",
       "dtype: int64"
      ]
     },
     "execution_count": 5,
     "metadata": {},
     "output_type": "execute_result"
    }
   ],
   "source": [
    "df_eclipse.count()"
   ]
  },
  {
   "cell_type": "code",
   "execution_count": 6,
   "id": "76500b88-a9eb-4b2c-8bc8-fa1fbf90b092",
   "metadata": {},
   "outputs": [],
   "source": [
    "df_eclipse = df_eclipse.dropna()"
   ]
  },
  {
   "cell_type": "code",
   "execution_count": 7,
   "id": "020df244-e3be-4426-94f8-4703f3c129ce",
   "metadata": {},
   "outputs": [
    {
     "data": {
      "text/plain": [
       "bug_id                  359\n",
       "creation_date           359\n",
       "component_name          359\n",
       "product_name            359\n",
       "short_description       359\n",
       "long_description        359\n",
       "assignee_name           359\n",
       "reporter_name           359\n",
       "resolution_category     359\n",
       "resolution_code         359\n",
       "status_category         359\n",
       "status_code             359\n",
       "update_date             359\n",
       "quantity_of_votes       359\n",
       "quantity_of_comments    359\n",
       "resolution_date         359\n",
       "bug_fix_time            359\n",
       "severity_category       359\n",
       "severity_code           359\n",
       "label                   359\n",
       "dtype: int64"
      ]
     },
     "execution_count": 7,
     "metadata": {},
     "output_type": "execute_result"
    }
   ],
   "source": [
    "df_eclipse.count()"
   ]
  },
  {
   "cell_type": "code",
   "execution_count": 8,
   "id": "0aa1ffc2-3057-412f-b967-b0f5c16f1bec",
   "metadata": {},
   "outputs": [],
   "source": [
    "df_mozilla = pd.read_csv('data/mozilla_bug_report_data.csv')"
   ]
  },
  {
   "cell_type": "code",
   "execution_count": 9,
   "id": "fad2ef7d-6cc3-41f7-8fa6-87379caca29f",
   "metadata": {},
   "outputs": [
    {
     "data": {
      "text/html": [
       "<div>\n",
       "<style scoped>\n",
       "    .dataframe tbody tr th:only-of-type {\n",
       "        vertical-align: middle;\n",
       "    }\n",
       "\n",
       "    .dataframe tbody tr th {\n",
       "        vertical-align: top;\n",
       "    }\n",
       "\n",
       "    .dataframe thead th {\n",
       "        text-align: right;\n",
       "    }\n",
       "</style>\n",
       "<table border=\"1\" class=\"dataframe\">\n",
       "  <thead>\n",
       "    <tr style=\"text-align: right;\">\n",
       "      <th></th>\n",
       "      <th>bug_id</th>\n",
       "      <th>creation_date</th>\n",
       "      <th>component_name</th>\n",
       "      <th>product_name</th>\n",
       "      <th>short_description</th>\n",
       "      <th>long_description</th>\n",
       "      <th>assignee_name</th>\n",
       "      <th>reporter_name</th>\n",
       "      <th>resolution_category</th>\n",
       "      <th>resolution_code</th>\n",
       "      <th>status_category</th>\n",
       "      <th>status_code</th>\n",
       "      <th>update_date</th>\n",
       "      <th>quantity_of_votes</th>\n",
       "      <th>quantity_of_comments</th>\n",
       "      <th>resolution_date</th>\n",
       "      <th>bug_fix_time</th>\n",
       "      <th>severity_category</th>\n",
       "      <th>severity_code</th>\n",
       "      <th>label</th>\n",
       "    </tr>\n",
       "  </thead>\n",
       "  <tbody>\n",
       "    <tr>\n",
       "      <th>0</th>\n",
       "      <td>BUGZILLA-294734</td>\n",
       "      <td>2005-05-18</td>\n",
       "      <td>Bugzilla-General</td>\n",
       "      <td>BUGZILLA</td>\n",
       "      <td>Emergency 2.16.10 Release</td>\n",
       "      <td>2.16.9 is broken -- many users can't enter bug...</td>\n",
       "      <td>mkanat</td>\n",
       "      <td>mkanat</td>\n",
       "      <td>fixed</td>\n",
       "      <td>1</td>\n",
       "      <td>resolved</td>\n",
       "      <td>4</td>\n",
       "      <td>2005-05-19</td>\n",
       "      <td>0</td>\n",
       "      <td>15</td>\n",
       "      <td>2005-05-19</td>\n",
       "      <td>1</td>\n",
       "      <td>blocker</td>\n",
       "      <td>6</td>\n",
       "      <td>Regression</td>\n",
       "    </tr>\n",
       "    <tr>\n",
       "      <th>1</th>\n",
       "      <td>OTHER_APPLICATIONS-363323</td>\n",
       "      <td>2006-12-09</td>\n",
       "      <td>DOM Inspector</td>\n",
       "      <td>OTHER_APPLICATIONS</td>\n",
       "      <td>DOM View is really inefficient with setting wh...</td>\n",
       "      <td>From comment in url:\\n\\nCurrent code:\\nmenuite...</td>\n",
       "      <td>sdwilsh</td>\n",
       "      <td>sdwilsh</td>\n",
       "      <td>fixed</td>\n",
       "      <td>1</td>\n",
       "      <td>resolved</td>\n",
       "      <td>4</td>\n",
       "      <td>2011-06-01</td>\n",
       "      <td>0</td>\n",
       "      <td>8</td>\n",
       "      <td>2007-01-14</td>\n",
       "      <td>36</td>\n",
       "      <td>normal</td>\n",
       "      <td>2</td>\n",
       "      <td>Performance</td>\n",
       "    </tr>\n",
       "    <tr>\n",
       "      <th>2</th>\n",
       "      <td>SUPPORT.MOZILLA.ORG-398246</td>\n",
       "      <td>2007-10-02</td>\n",
       "      <td>General</td>\n",
       "      <td>SUPPORT.MOZILLA.ORG</td>\n",
       "      <td>Add support for custom cookies and cache headers</td>\n",
       "      <td>Adding support for custom headers and cookie n...</td>\n",
       "      <td>morgamic</td>\n",
       "      <td>morgamic</td>\n",
       "      <td>fixed</td>\n",
       "      <td>1</td>\n",
       "      <td>resolved</td>\n",
       "      <td>4</td>\n",
       "      <td>2009-11-02</td>\n",
       "      <td>0</td>\n",
       "      <td>23</td>\n",
       "      <td>2008-03-24</td>\n",
       "      <td>174</td>\n",
       "      <td>blocker</td>\n",
       "      <td>6</td>\n",
       "      <td>Functional</td>\n",
       "    </tr>\n",
       "    <tr>\n",
       "      <th>3</th>\n",
       "      <td>OTHER_APPLICATIONS-318859</td>\n",
       "      <td>2005-12-02</td>\n",
       "      <td>ChatZilla</td>\n",
       "      <td>OTHER_APPLICATIONS</td>\n",
       "      <td>DCC functionality in ChatZilla isn't functional.</td>\n",
       "      <td>User-Agent:       Mozilla/5.0 (Macintosh U PPC...</td>\n",
       "      <td>gijskruitbosch+bugs</td>\n",
       "      <td>dafydd</td>\n",
       "      <td>fixed</td>\n",
       "      <td>1</td>\n",
       "      <td>resolved</td>\n",
       "      <td>4</td>\n",
       "      <td>2006-02-10</td>\n",
       "      <td>0</td>\n",
       "      <td>14</td>\n",
       "      <td>2005-12-07</td>\n",
       "      <td>5</td>\n",
       "      <td>normal</td>\n",
       "      <td>2</td>\n",
       "      <td>Functional</td>\n",
       "    </tr>\n",
       "    <tr>\n",
       "      <th>4</th>\n",
       "      <td>DEVELOPER.MOZILLA.ORG-416840</td>\n",
       "      <td>2008-02-11</td>\n",
       "      <td>General</td>\n",
       "      <td>DEVELOPER.MOZILLA.ORG</td>\n",
       "      <td>Fix  and  cruft</td>\n",
       "      <td>Since we removed the breadcrumbs and title-ove...</td>\n",
       "      <td>nobody</td>\n",
       "      <td>jorendorff</td>\n",
       "      <td>fixed</td>\n",
       "      <td>1</td>\n",
       "      <td>resolved</td>\n",
       "      <td>4</td>\n",
       "      <td>2012-09-18</td>\n",
       "      <td>0</td>\n",
       "      <td>4</td>\n",
       "      <td>2008-02-12</td>\n",
       "      <td>1</td>\n",
       "      <td>normal</td>\n",
       "      <td>2</td>\n",
       "      <td>Regression</td>\n",
       "    </tr>\n",
       "  </tbody>\n",
       "</table>\n",
       "</div>"
      ],
      "text/plain": [
       "                         bug_id creation_date    component_name  \\\n",
       "0               BUGZILLA-294734    2005-05-18  Bugzilla-General   \n",
       "1     OTHER_APPLICATIONS-363323    2006-12-09     DOM Inspector   \n",
       "2    SUPPORT.MOZILLA.ORG-398246    2007-10-02           General   \n",
       "3     OTHER_APPLICATIONS-318859    2005-12-02         ChatZilla   \n",
       "4  DEVELOPER.MOZILLA.ORG-416840    2008-02-11           General   \n",
       "\n",
       "            product_name                                  short_description  \\\n",
       "0               BUGZILLA                          Emergency 2.16.10 Release   \n",
       "1     OTHER_APPLICATIONS  DOM View is really inefficient with setting wh...   \n",
       "2    SUPPORT.MOZILLA.ORG   Add support for custom cookies and cache headers   \n",
       "3     OTHER_APPLICATIONS   DCC functionality in ChatZilla isn't functional.   \n",
       "4  DEVELOPER.MOZILLA.ORG                                    Fix  and  cruft   \n",
       "\n",
       "                                    long_description        assignee_name  \\\n",
       "0  2.16.9 is broken -- many users can't enter bug...               mkanat   \n",
       "1  From comment in url:\\n\\nCurrent code:\\nmenuite...              sdwilsh   \n",
       "2  Adding support for custom headers and cookie n...             morgamic   \n",
       "3  User-Agent:       Mozilla/5.0 (Macintosh U PPC...  gijskruitbosch+bugs   \n",
       "4  Since we removed the breadcrumbs and title-ove...               nobody   \n",
       "\n",
       "  reporter_name resolution_category  resolution_code status_category  \\\n",
       "0        mkanat               fixed                1        resolved   \n",
       "1       sdwilsh               fixed                1        resolved   \n",
       "2      morgamic               fixed                1        resolved   \n",
       "3        dafydd               fixed                1        resolved   \n",
       "4    jorendorff               fixed                1        resolved   \n",
       "\n",
       "   status_code update_date  quantity_of_votes  quantity_of_comments  \\\n",
       "0            4  2005-05-19                  0                    15   \n",
       "1            4  2011-06-01                  0                     8   \n",
       "2            4  2009-11-02                  0                    23   \n",
       "3            4  2006-02-10                  0                    14   \n",
       "4            4  2012-09-18                  0                     4   \n",
       "\n",
       "  resolution_date  bug_fix_time severity_category  severity_code        label  \n",
       "0      2005-05-19             1           blocker              6   Regression  \n",
       "1      2007-01-14            36            normal              2  Performance  \n",
       "2      2008-03-24           174           blocker              6   Functional  \n",
       "3      2005-12-07             5            normal              2   Functional  \n",
       "4      2008-02-12             1            normal              2   Regression  "
      ]
     },
     "execution_count": 9,
     "metadata": {},
     "output_type": "execute_result"
    }
   ],
   "source": [
    "df_mozilla.head()"
   ]
  },
  {
   "cell_type": "code",
   "execution_count": 10,
   "id": "3f5c5973-63dd-418e-a24e-a5d184b70025",
   "metadata": {},
   "outputs": [
    {
     "data": {
      "text/plain": [
       "(9956, 20)"
      ]
     },
     "execution_count": 10,
     "metadata": {},
     "output_type": "execute_result"
    }
   ],
   "source": [
    "df_mozilla.shape"
   ]
  },
  {
   "cell_type": "code",
   "execution_count": 11,
   "id": "98f68b4c-04c6-4e35-bf98-ba55e4a1fc7f",
   "metadata": {},
   "outputs": [
    {
     "data": {
      "text/plain": [
       "bug_id                  9956\n",
       "creation_date           9956\n",
       "component_name          9956\n",
       "product_name            9956\n",
       "short_description       9955\n",
       "long_description        9878\n",
       "assignee_name           9956\n",
       "reporter_name           9956\n",
       "resolution_category     9956\n",
       "resolution_code         9956\n",
       "status_category         9956\n",
       "status_code             9956\n",
       "update_date             9956\n",
       "quantity_of_votes       9956\n",
       "quantity_of_comments    9956\n",
       "resolution_date         9956\n",
       "bug_fix_time            9956\n",
       "severity_category       9956\n",
       "severity_code           9956\n",
       "label                    301\n",
       "dtype: int64"
      ]
     },
     "execution_count": 11,
     "metadata": {},
     "output_type": "execute_result"
    }
   ],
   "source": [
    "df_mozilla.count()"
   ]
  },
  {
   "cell_type": "code",
   "execution_count": 12,
   "id": "9497d04e-b243-4dff-970e-0304591b9787",
   "metadata": {},
   "outputs": [],
   "source": [
    "df_mozilla = df_mozilla.dropna()"
   ]
  },
  {
   "cell_type": "code",
   "execution_count": 13,
   "id": "5c0c4da3-60f5-40eb-bb7c-e22fe876f94c",
   "metadata": {},
   "outputs": [
    {
     "data": {
      "text/plain": [
       "bug_id                  301\n",
       "creation_date           301\n",
       "component_name          301\n",
       "product_name            301\n",
       "short_description       301\n",
       "long_description        301\n",
       "assignee_name           301\n",
       "reporter_name           301\n",
       "resolution_category     301\n",
       "resolution_code         301\n",
       "status_category         301\n",
       "status_code             301\n",
       "update_date             301\n",
       "quantity_of_votes       301\n",
       "quantity_of_comments    301\n",
       "resolution_date         301\n",
       "bug_fix_time            301\n",
       "severity_category       301\n",
       "severity_code           301\n",
       "label                   301\n",
       "dtype: int64"
      ]
     },
     "execution_count": 13,
     "metadata": {},
     "output_type": "execute_result"
    }
   ],
   "source": [
    "df_mozilla.count()"
   ]
  },
  {
   "cell_type": "markdown",
   "id": "5ff39798-8af3-4559-88e4-5a1b2075d3ba",
   "metadata": {},
   "source": [
    "<h2><b>Data Visualization</b></h2>"
   ]
  },
  {
   "cell_type": "code",
   "execution_count": 14,
   "id": "e83c4523-0c92-45f9-b0c9-4ef000086c2f",
   "metadata": {},
   "outputs": [
    {
     "data": {
      "image/png": "[encoded data removed]",
      "text/plain": [
       "<Figure size 1200x400 with 2 Axes>"
      ]
     },
     "metadata": {},
     "output_type": "display_data"
    }
   ],
   "source": [
    "plt.figure(figsize=[12,4])\n",
    "plt.subplot(1,2,1)\n",
    "fn_vis.year_plot(df_eclipse, \"Eclipse\")\n",
    "\n",
    "plt.subplot(1,2,2)\n",
    "fn_vis.year_plot(df_mozilla, \"Mozilla\")\n",
    "\n",
    "plt.show()"
   ]
  },
  {
   "cell_type": "code",
   "execution_count": 15,
   "id": "e93b76fe-9fa7-44ec-9c5f-fc7a7281e358",
   "metadata": {},
   "outputs": [
    {
     "data": {
      "image/png": "[encoded data removed]",
      "text/plain": [
       "<Figure size 1200x400 with 2 Axes>"
      ]
     },
     "metadata": {},
     "output_type": "display_data"
    }
   ],
   "source": [
    "df_eclipse['severity_code'] = df_eclipse['severity_code'].astype(int)\n",
    "\n",
    "plt.figure(figsize=[12,4])\n",
    "plt.subplot(1,2,1)\n",
    "fn_vis.severity_plot(df_eclipse, \"Eclipse\")\n",
    "\n",
    "plt.subplot(1,2,2)\n",
    "fn_vis.severity_plot(df_mozilla, \"Mozilla\")\n",
    "plt.show()"
   ]
  },
  {
   "cell_type": "code",
   "execution_count": 16,
   "id": "0c681a3d-4f92-4134-80ea-6a8e2beac2d3",
   "metadata": {},
   "outputs": [
    {
     "data": {
      "image/png": "[encoded data removed]",
      "text/plain": [
       "<Figure size 1200x400 with 2 Axes>"
      ]
     },
     "metadata": {},
     "output_type": "display_data"
    }
   ],
   "source": [
    "plt.figure(figsize=[12,4])\n",
    "plt.subplot(1,2,1)\n",
    "fn_vis.label_plot(df_eclipse, \"Eclipse\")\n",
    "\n",
    "plt.subplot(1,2,2)\n",
    "fn_vis.label_plot(df_mozilla, \"Mozilla\")\n",
    "plt.show()"
   ]
  },
  {
   "cell_type": "code",
   "execution_count": 17,
   "id": "45183bc3-5435-4343-9e72-e1261a72921c",
   "metadata": {},
   "outputs": [
    {
     "data": {
      "image/png": "[encoded data removed]",
      "text/plain": [
       "<Figure size 640x480 with 1 Axes>"
      ]
     },
     "metadata": {},
     "output_type": "display_data"
    },
    {
     "data": {
      "image/png": "[encoded data removed]",
      "text/plain": [
       "<Figure size 640x480 with 1 Axes>"
      ]
     },
     "metadata": {},
     "output_type": "display_data"
    }
   ],
   "source": [
    "fn_vis.label_sev_plot(df_eclipse, \"Eclipse\")\n",
    "fn_vis.label_sev_plot(df_mozilla, \"Mozilla\")"
   ]
  },
  {
   "cell_type": "markdown",
   "id": "996ca2bd-a7d1-4a2c-be49-4ff1868ca288",
   "metadata": {},
   "source": [
    "<h2><b>Data Preparation</b></h2>"
   ]
  },
  {
   "cell_type": "code",
   "execution_count": 18,
   "id": "b01bd3f5-a0e8-49a9-92ce-85b7329e0e28",
   "metadata": {},
   "outputs": [],
   "source": [
    "df_eclipse = df_eclipse.drop(columns=['creation_date','assignee_name','reporter_name','resolution_category',\n",
    "                              'resolution_code','status_category','status_code','update_date',\n",
    "                             'quantity_of_votes','quantity_of_comments','resolution_date',\n",
    "                             'severity_category'])\n",
    "\n",
    "df_mozilla = df_mozilla.drop(columns=['creation_date','assignee_name','reporter_name','resolution_category',\n",
    "                              'resolution_code','status_category','status_code','update_date',\n",
    "                             'quantity_of_votes','quantity_of_comments','resolution_date',\n",
    "                             'severity_category'])"
   ]
  },
  {
   "cell_type": "code",
   "execution_count": 19,
   "id": "c2cdd75e-ac6f-4c3b-a0dc-2cf1ddbcb12b",
   "metadata": {},
   "outputs": [
    {
     "data": {
      "text/html": [
       "<div>\n",
       "<style scoped>\n",
       "    .dataframe tbody tr th:only-of-type {\n",
       "        vertical-align: middle;\n",
       "    }\n",
       "\n",
       "    .dataframe tbody tr th {\n",
       "        vertical-align: top;\n",
       "    }\n",
       "\n",
       "    .dataframe thead th {\n",
       "        text-align: right;\n",
       "    }\n",
       "</style>\n",
       "<table border=\"1\" class=\"dataframe\">\n",
       "  <thead>\n",
       "    <tr style=\"text-align: right;\">\n",
       "      <th></th>\n",
       "      <th>bug_id</th>\n",
       "      <th>component_name</th>\n",
       "      <th>product_name</th>\n",
       "      <th>short_description</th>\n",
       "      <th>long_description</th>\n",
       "      <th>bug_fix_time</th>\n",
       "      <th>severity_code</th>\n",
       "      <th>label_Functional</th>\n",
       "      <th>label_Infrastructure</th>\n",
       "      <th>label_Performance</th>\n",
       "      <th>label_Regression</th>\n",
       "      <th>label_Usability</th>\n",
       "    </tr>\n",
       "  </thead>\n",
       "  <tbody>\n",
       "    <tr>\n",
       "      <th>0</th>\n",
       "      <td>RECOMMENDERS-467951</td>\n",
       "      <td>Core</td>\n",
       "      <td>RECOMMENDERS</td>\n",
       "      <td>LogTraceException in ProposalUtils.toMethodNam...</td>\n",
       "      <td>The following incident was reported via the au...</td>\n",
       "      <td>5</td>\n",
       "      <td>2</td>\n",
       "      <td>True</td>\n",
       "      <td>False</td>\n",
       "      <td>False</td>\n",
       "      <td>False</td>\n",
       "      <td>False</td>\n",
       "    </tr>\n",
       "    <tr>\n",
       "      <th>1</th>\n",
       "      <td>QVTO-463396</td>\n",
       "      <td>Engine</td>\n",
       "      <td>QVTO</td>\n",
       "      <td>CCE in DecorationNodeImpl.eSet (159)</td>\n",
       "      <td>CCE in DecorationNodeImpl.eSet (159)</td>\n",
       "      <td>2</td>\n",
       "      <td>2</td>\n",
       "      <td>True</td>\n",
       "      <td>False</td>\n",
       "      <td>False</td>\n",
       "      <td>False</td>\n",
       "      <td>False</td>\n",
       "    </tr>\n",
       "    <tr>\n",
       "      <th>2</th>\n",
       "      <td>EQUINOX-530069</td>\n",
       "      <td>Compendium</td>\n",
       "      <td>EQUINOX</td>\n",
       "      <td>[http servlet] During dispatching javax.servle...</td>\n",
       "      <td>Original issue https://issues.liferay.com/brow...</td>\n",
       "      <td>2</td>\n",
       "      <td>2</td>\n",
       "      <td>False</td>\n",
       "      <td>True</td>\n",
       "      <td>False</td>\n",
       "      <td>False</td>\n",
       "      <td>False</td>\n",
       "    </tr>\n",
       "    <tr>\n",
       "      <th>3</th>\n",
       "      <td>NATTABLE-422482</td>\n",
       "      <td>Core</td>\n",
       "      <td>NATTABLE</td>\n",
       "      <td>Left border of NatTable is not drawn</td>\n",
       "      <td>Rendering a NatTable on a Composite with margi...</td>\n",
       "      <td>0</td>\n",
       "      <td>2</td>\n",
       "      <td>False</td>\n",
       "      <td>False</td>\n",
       "      <td>False</td>\n",
       "      <td>False</td>\n",
       "      <td>True</td>\n",
       "    </tr>\n",
       "    <tr>\n",
       "      <th>4</th>\n",
       "      <td>WTP_JAVA_EE_TOOLS-116294</td>\n",
       "      <td>jst.j2ee</td>\n",
       "      <td>WTP_JAVA_EE_TOOLS</td>\n",
       "      <td>NPE while importing EAR with utility jar</td>\n",
       "      <td>Import and EAR which has EJb and Ejb client tr...</td>\n",
       "      <td>1</td>\n",
       "      <td>6</td>\n",
       "      <td>True</td>\n",
       "      <td>False</td>\n",
       "      <td>False</td>\n",
       "      <td>False</td>\n",
       "      <td>False</td>\n",
       "    </tr>\n",
       "  </tbody>\n",
       "</table>\n",
       "</div>"
      ],
      "text/plain": [
       "                     bug_id component_name       product_name  \\\n",
       "0       RECOMMENDERS-467951           Core       RECOMMENDERS   \n",
       "1               QVTO-463396         Engine               QVTO   \n",
       "2            EQUINOX-530069     Compendium            EQUINOX   \n",
       "3           NATTABLE-422482           Core           NATTABLE   \n",
       "4  WTP_JAVA_EE_TOOLS-116294       jst.j2ee  WTP_JAVA_EE_TOOLS   \n",
       "\n",
       "                                   short_description  \\\n",
       "0  LogTraceException in ProposalUtils.toMethodNam...   \n",
       "1               CCE in DecorationNodeImpl.eSet (159)   \n",
       "2  [http servlet] During dispatching javax.servle...   \n",
       "3               Left border of NatTable is not drawn   \n",
       "4           NPE while importing EAR with utility jar   \n",
       "\n",
       "                                    long_description  bug_fix_time  \\\n",
       "0  The following incident was reported via the au...             5   \n",
       "1               CCE in DecorationNodeImpl.eSet (159)             2   \n",
       "2  Original issue https://issues.liferay.com/brow...             2   \n",
       "3  Rendering a NatTable on a Composite with margi...             0   \n",
       "4  Import and EAR which has EJb and Ejb client tr...             1   \n",
       "\n",
       "   severity_code  label_Functional  label_Infrastructure  label_Performance  \\\n",
       "0              2              True                 False              False   \n",
       "1              2              True                 False              False   \n",
       "2              2             False                  True              False   \n",
       "3              2             False                 False              False   \n",
       "4              6              True                 False              False   \n",
       "\n",
       "   label_Regression  label_Usability  \n",
       "0             False            False  \n",
       "1             False            False  \n",
       "2             False            False  \n",
       "3             False             True  \n",
       "4             False            False  "
      ]
     },
     "execution_count": 19,
     "metadata": {},
     "output_type": "execute_result"
    }
   ],
   "source": [
    "eclipse_enc = pd.get_dummies(df_eclipse, columns=['label'])\n",
    "eclipse_enc.head()"
   ]
  },
  {
   "cell_type": "code",
   "execution_count": 20,
   "id": "d4275c1c-075b-4274-96e9-839fe46325a5",
   "metadata": {},
   "outputs": [
    {
     "data": {
      "text/html": [
       "<div>\n",
       "<style scoped>\n",
       "    .dataframe tbody tr th:only-of-type {\n",
       "        vertical-align: middle;\n",
       "    }\n",
       "\n",
       "    .dataframe tbody tr th {\n",
       "        vertical-align: top;\n",
       "    }\n",
       "\n",
       "    .dataframe thead th {\n",
       "        text-align: right;\n",
       "    }\n",
       "</style>\n",
       "<table border=\"1\" class=\"dataframe\">\n",
       "  <thead>\n",
       "    <tr style=\"text-align: right;\">\n",
       "      <th></th>\n",
       "      <th>bug_id</th>\n",
       "      <th>component_name</th>\n",
       "      <th>product_name</th>\n",
       "      <th>short_description</th>\n",
       "      <th>long_description</th>\n",
       "      <th>bug_fix_time</th>\n",
       "      <th>severity_code</th>\n",
       "      <th>label_Functional</th>\n",
       "      <th>label_Infrastructure</th>\n",
       "      <th>label_Performance</th>\n",
       "      <th>label_Regression</th>\n",
       "      <th>label_Usability</th>\n",
       "    </tr>\n",
       "  </thead>\n",
       "  <tbody>\n",
       "    <tr>\n",
       "      <th>0</th>\n",
       "      <td>BUGZILLA-294734</td>\n",
       "      <td>Bugzilla-General</td>\n",
       "      <td>BUGZILLA</td>\n",
       "      <td>Emergency 2.16.10 Release</td>\n",
       "      <td>2.16.9 is broken -- many users can't enter bug...</td>\n",
       "      <td>1</td>\n",
       "      <td>6</td>\n",
       "      <td>False</td>\n",
       "      <td>False</td>\n",
       "      <td>False</td>\n",
       "      <td>True</td>\n",
       "      <td>False</td>\n",
       "    </tr>\n",
       "    <tr>\n",
       "      <th>1</th>\n",
       "      <td>OTHER_APPLICATIONS-363323</td>\n",
       "      <td>DOM Inspector</td>\n",
       "      <td>OTHER_APPLICATIONS</td>\n",
       "      <td>DOM View is really inefficient with setting wh...</td>\n",
       "      <td>From comment in url:\\n\\nCurrent code:\\nmenuite...</td>\n",
       "      <td>36</td>\n",
       "      <td>2</td>\n",
       "      <td>False</td>\n",
       "      <td>False</td>\n",
       "      <td>True</td>\n",
       "      <td>False</td>\n",
       "      <td>False</td>\n",
       "    </tr>\n",
       "    <tr>\n",
       "      <th>2</th>\n",
       "      <td>SUPPORT.MOZILLA.ORG-398246</td>\n",
       "      <td>General</td>\n",
       "      <td>SUPPORT.MOZILLA.ORG</td>\n",
       "      <td>Add support for custom cookies and cache headers</td>\n",
       "      <td>Adding support for custom headers and cookie n...</td>\n",
       "      <td>174</td>\n",
       "      <td>6</td>\n",
       "      <td>True</td>\n",
       "      <td>False</td>\n",
       "      <td>False</td>\n",
       "      <td>False</td>\n",
       "      <td>False</td>\n",
       "    </tr>\n",
       "    <tr>\n",
       "      <th>3</th>\n",
       "      <td>OTHER_APPLICATIONS-318859</td>\n",
       "      <td>ChatZilla</td>\n",
       "      <td>OTHER_APPLICATIONS</td>\n",
       "      <td>DCC functionality in ChatZilla isn't functional.</td>\n",
       "      <td>User-Agent:       Mozilla/5.0 (Macintosh U PPC...</td>\n",
       "      <td>5</td>\n",
       "      <td>2</td>\n",
       "      <td>True</td>\n",
       "      <td>False</td>\n",
       "      <td>False</td>\n",
       "      <td>False</td>\n",
       "      <td>False</td>\n",
       "    </tr>\n",
       "    <tr>\n",
       "      <th>4</th>\n",
       "      <td>DEVELOPER.MOZILLA.ORG-416840</td>\n",
       "      <td>General</td>\n",
       "      <td>DEVELOPER.MOZILLA.ORG</td>\n",
       "      <td>Fix  and  cruft</td>\n",
       "      <td>Since we removed the breadcrumbs and title-ove...</td>\n",
       "      <td>1</td>\n",
       "      <td>2</td>\n",
       "      <td>False</td>\n",
       "      <td>False</td>\n",
       "      <td>False</td>\n",
       "      <td>True</td>\n",
       "      <td>False</td>\n",
       "    </tr>\n",
       "  </tbody>\n",
       "</table>\n",
       "</div>"
      ],
      "text/plain": [
       "                         bug_id    component_name           product_name  \\\n",
       "0               BUGZILLA-294734  Bugzilla-General               BUGZILLA   \n",
       "1     OTHER_APPLICATIONS-363323     DOM Inspector     OTHER_APPLICATIONS   \n",
       "2    SUPPORT.MOZILLA.ORG-398246           General    SUPPORT.MOZILLA.ORG   \n",
       "3     OTHER_APPLICATIONS-318859         ChatZilla     OTHER_APPLICATIONS   \n",
       "4  DEVELOPER.MOZILLA.ORG-416840           General  DEVELOPER.MOZILLA.ORG   \n",
       "\n",
       "                                   short_description  \\\n",
       "0                          Emergency 2.16.10 Release   \n",
       "1  DOM View is really inefficient with setting wh...   \n",
       "2   Add support for custom cookies and cache headers   \n",
       "3   DCC functionality in ChatZilla isn't functional.   \n",
       "4                                    Fix  and  cruft   \n",
       "\n",
       "                                    long_description  bug_fix_time  \\\n",
       "0  2.16.9 is broken -- many users can't enter bug...             1   \n",
       "1  From comment in url:\\n\\nCurrent code:\\nmenuite...            36   \n",
       "2  Adding support for custom headers and cookie n...           174   \n",
       "3  User-Agent:       Mozilla/5.0 (Macintosh U PPC...             5   \n",
       "4  Since we removed the breadcrumbs and title-ove...             1   \n",
       "\n",
       "   severity_code  label_Functional  label_Infrastructure  label_Performance  \\\n",
       "0              6             False                 False              False   \n",
       "1              2             False                 False               True   \n",
       "2              6              True                 False              False   \n",
       "3              2              True                 False              False   \n",
       "4              2             False                 False              False   \n",
       "\n",
       "   label_Regression  label_Usability  \n",
       "0              True            False  \n",
       "1             False            False  \n",
       "2             False            False  \n",
       "3             False            False  \n",
       "4              True            False  "
      ]
     },
     "execution_count": 20,
     "metadata": {},
     "output_type": "execute_result"
    }
   ],
   "source": [
    "mozilla_enc = pd.get_dummies(df_mozilla, columns=['label'])\n",
    "mozilla_enc.head()"
   ]
  },
  {
   "cell_type": "code",
   "execution_count": 21,
   "id": "85401377-0f7f-413b-933e-2b116a31f43b",
   "metadata": {},
   "outputs": [
    {
     "name": "stderr",
     "output_type": "stream",
     "text": [
      "[nltk_data] Downloading package stopwords to\n",
      "[nltk_data]     C:\\Users\\vasav\\AppData\\Roaming\\nltk_data...\n",
      "[nltk_data]   Package stopwords is already up-to-date!\n",
      "[nltk_data] Downloading package wordnet to\n",
      "[nltk_data]     C:\\Users\\vasav\\AppData\\Roaming\\nltk_data...\n",
      "[nltk_data]   Package wordnet is already up-to-date!\n"
     ]
    },
    {
     "data": {
      "text/plain": [
       "True"
      ]
     },
     "execution_count": 21,
     "metadata": {},
     "output_type": "execute_result"
    }
   ],
   "source": [
    "nltk.download('stopwords')\n",
    "nltk.download('wordnet')"
   ]
  },
  {
   "cell_type": "code",
   "execution_count": 22,
   "id": "e162c511-53bd-4272-9466-98a25fa7bfca",
   "metadata": {},
   "outputs": [],
   "source": [
    "lemmatizer = WordNetLemmatizer()\n",
    "stop_words = set(stopwords.words('english'))"
   ]
  },
  {
   "cell_type": "code",
   "execution_count": 23,
   "id": "7117fa7a-7240-45b1-bc9f-c9950d030639",
   "metadata": {},
   "outputs": [],
   "source": [
    "combined_df = pd.concat([eclipse_enc, mozilla_enc],axis = 0)"
   ]
  },
  {
   "cell_type": "code",
   "execution_count": 24,
   "id": "e80f6a2f-129a-4dd0-8214-2202b5534320",
   "metadata": {},
   "outputs": [],
   "source": [
    "combined_df = fn_prep.prepare_df(combined_df, lemmatizer, stop_words)"
   ]
  },
  {
   "cell_type": "code",
   "execution_count": 25,
   "id": "dee0e9d3-ab39-4889-b17e-5ff763eade17",
   "metadata": {},
   "outputs": [
    {
     "data": {
      "text/html": [
       "<div>\n",
       "<style scoped>\n",
       "    .dataframe tbody tr th:only-of-type {\n",
       "        vertical-align: middle;\n",
       "    }\n",
       "\n",
       "    .dataframe tbody tr th {\n",
       "        vertical-align: top;\n",
       "    }\n",
       "\n",
       "    .dataframe thead th {\n",
       "        text-align: right;\n",
       "    }\n",
       "</style>\n",
       "<table border=\"1\" class=\"dataframe\">\n",
       "  <thead>\n",
       "    <tr style=\"text-align: right;\">\n",
       "      <th></th>\n",
       "      <th>bug_id</th>\n",
       "      <th>component_name</th>\n",
       "      <th>product_name</th>\n",
       "      <th>short_description</th>\n",
       "      <th>long_description</th>\n",
       "      <th>bug_fix_time</th>\n",
       "      <th>severity_code</th>\n",
       "      <th>label_Functional</th>\n",
       "      <th>label_Infrastructure</th>\n",
       "      <th>label_Performance</th>\n",
       "      <th>label_Regression</th>\n",
       "      <th>label_Usability</th>\n",
       "      <th>description</th>\n",
       "      <th>word_count_desc</th>\n",
       "      <th>sent_count_desc</th>\n",
       "    </tr>\n",
       "  </thead>\n",
       "  <tbody>\n",
       "    <tr>\n",
       "      <th>0</th>\n",
       "      <td>RECOMMENDERS-467951</td>\n",
       "      <td>Core</td>\n",
       "      <td>RECOMMENDERS</td>\n",
       "      <td>LogTraceException in ProposalUtils.toMethodNam...</td>\n",
       "      <td>The following incident was reported via the au...</td>\n",
       "      <td>5</td>\n",
       "      <td>2</td>\n",
       "      <td>True</td>\n",
       "      <td>False</td>\n",
       "      <td>False</td>\n",
       "      <td>False</td>\n",
       "      <td>False</td>\n",
       "      <td>logtraceexception proposalutilstomethodname 89...</td>\n",
       "      <td>94</td>\n",
       "      <td>1</td>\n",
       "    </tr>\n",
       "    <tr>\n",
       "      <th>1</th>\n",
       "      <td>QVTO-463396</td>\n",
       "      <td>Engine</td>\n",
       "      <td>QVTO</td>\n",
       "      <td>CCE in DecorationNodeImpl.eSet (159)</td>\n",
       "      <td>CCE in DecorationNodeImpl.eSet (159)</td>\n",
       "      <td>2</td>\n",
       "      <td>2</td>\n",
       "      <td>True</td>\n",
       "      <td>False</td>\n",
       "      <td>False</td>\n",
       "      <td>False</td>\n",
       "      <td>False</td>\n",
       "      <td>cce decorationnodeimpleset 159 cce decorationn...</td>\n",
       "      <td>6</td>\n",
       "      <td>1</td>\n",
       "    </tr>\n",
       "    <tr>\n",
       "      <th>2</th>\n",
       "      <td>EQUINOX-530069</td>\n",
       "      <td>Compendium</td>\n",
       "      <td>EQUINOX</td>\n",
       "      <td>[http servlet] During dispatching javax.servle...</td>\n",
       "      <td>Original issue https://issues.liferay.com/brow...</td>\n",
       "      <td>2</td>\n",
       "      <td>2</td>\n",
       "      <td>False</td>\n",
       "      <td>True</td>\n",
       "      <td>False</td>\n",
       "      <td>False</td>\n",
       "      <td>False</td>\n",
       "      <td>http servlet dispatching javaxservletincludeco...</td>\n",
       "      <td>13</td>\n",
       "      <td>1</td>\n",
       "    </tr>\n",
       "    <tr>\n",
       "      <th>3</th>\n",
       "      <td>NATTABLE-422482</td>\n",
       "      <td>Core</td>\n",
       "      <td>NATTABLE</td>\n",
       "      <td>Left border of NatTable is not drawn</td>\n",
       "      <td>Rendering a NatTable on a Composite with margi...</td>\n",
       "      <td>0</td>\n",
       "      <td>2</td>\n",
       "      <td>False</td>\n",
       "      <td>False</td>\n",
       "      <td>False</td>\n",
       "      <td>False</td>\n",
       "      <td>True</td>\n",
       "      <td>left border nattable drawn rendering nattable ...</td>\n",
       "      <td>30</td>\n",
       "      <td>1</td>\n",
       "    </tr>\n",
       "    <tr>\n",
       "      <th>4</th>\n",
       "      <td>WTP_JAVA_EE_TOOLS-116294</td>\n",
       "      <td>jst.j2ee</td>\n",
       "      <td>WTP_JAVA_EE_TOOLS</td>\n",
       "      <td>NPE while importing EAR with utility jar</td>\n",
       "      <td>Import and EAR which has EJb and Ejb client tr...</td>\n",
       "      <td>1</td>\n",
       "      <td>6</td>\n",
       "      <td>True</td>\n",
       "      <td>False</td>\n",
       "      <td>False</td>\n",
       "      <td>False</td>\n",
       "      <td>False</td>\n",
       "      <td>npe importing ear utility jar import ear ejb e...</td>\n",
       "      <td>51</td>\n",
       "      <td>1</td>\n",
       "    </tr>\n",
       "  </tbody>\n",
       "</table>\n",
       "</div>"
      ],
      "text/plain": [
       "                     bug_id component_name       product_name  \\\n",
       "0       RECOMMENDERS-467951           Core       RECOMMENDERS   \n",
       "1               QVTO-463396         Engine               QVTO   \n",
       "2            EQUINOX-530069     Compendium            EQUINOX   \n",
       "3           NATTABLE-422482           Core           NATTABLE   \n",
       "4  WTP_JAVA_EE_TOOLS-116294       jst.j2ee  WTP_JAVA_EE_TOOLS   \n",
       "\n",
       "                                   short_description  \\\n",
       "0  LogTraceException in ProposalUtils.toMethodNam...   \n",
       "1               CCE in DecorationNodeImpl.eSet (159)   \n",
       "2  [http servlet] During dispatching javax.servle...   \n",
       "3               Left border of NatTable is not drawn   \n",
       "4           NPE while importing EAR with utility jar   \n",
       "\n",
       "                                    long_description  bug_fix_time  \\\n",
       "0  The following incident was reported via the au...             5   \n",
       "1               CCE in DecorationNodeImpl.eSet (159)             2   \n",
       "2  Original issue https://issues.liferay.com/brow...             2   \n",
       "3  Rendering a NatTable on a Composite with margi...             0   \n",
       "4  Import and EAR which has EJb and Ejb client tr...             1   \n",
       "\n",
       "   severity_code  label_Functional  label_Infrastructure  label_Performance  \\\n",
       "0              2              True                 False              False   \n",
       "1              2              True                 False              False   \n",
       "2              2             False                  True              False   \n",
       "3              2             False                 False              False   \n",
       "4              6              True                 False              False   \n",
       "\n",
       "   label_Regression  label_Usability  \\\n",
       "0             False            False   \n",
       "1             False            False   \n",
       "2             False            False   \n",
       "3             False             True   \n",
       "4             False            False   \n",
       "\n",
       "                                         description  word_count_desc  \\\n",
       "0  logtraceexception proposalutilstomethodname 89...               94   \n",
       "1  cce decorationnodeimpleset 159 cce decorationn...                6   \n",
       "2  http servlet dispatching javaxservletincludeco...               13   \n",
       "3  left border nattable drawn rendering nattable ...               30   \n",
       "4  npe importing ear utility jar import ear ejb e...               51   \n",
       "\n",
       "   sent_count_desc  \n",
       "0                1  \n",
       "1                1  \n",
       "2                1  \n",
       "3                1  \n",
       "4                1  "
      ]
     },
     "execution_count": 25,
     "metadata": {},
     "output_type": "execute_result"
    }
   ],
   "source": [
    "combined_df.head()"
   ]
  },
  {
   "cell_type": "code",
   "execution_count": 63,
   "id": "518cf481-d5fc-4a62-9d2c-ec8ebbcad4f3",
   "metadata": {},
   "outputs": [],
   "source": [
    "df_vec1 = fn_prep.vectorizer(combined_df, 'description', 80, 500)"
   ]
  },
  {
   "cell_type": "code",
   "execution_count": 64,
   "id": "a9037080-9fb4-4817-9718-8f914153dcb0",
   "metadata": {},
   "outputs": [],
   "source": [
    "final_df = fn_prep.processed_df(combined_df, df_vec1)"
   ]
  },
  {
   "cell_type": "code",
   "execution_count": 65,
   "id": "a6e24b1d-6d63-4d95-9a89-995984ed5efe",
   "metadata": {},
   "outputs": [],
   "source": [
    "X = final_df.drop(columns=['label_Functional','label_Infrastructure','label_Performance',\n",
    "                              'label_Regression','label_Usability'])\n",
    "y = final_df[['label_Functional','label_Infrastructure','label_Performance',\n",
    "                              'label_Regression','label_Usability']].idxmax(axis=1)\n",
    "encoder = LabelEncoder()\n",
    "y = encoder.fit_transform(y)"
   ]
  },
  {
   "cell_type": "markdown",
   "id": "b15cf62d-43ba-414d-892a-d6a2e94a61a4",
   "metadata": {},
   "source": [
    "<h2><b>Training</b></h2>"
   ]
  },
  {
   "cell_type": "code",
   "execution_count": 66,
   "id": "52aad9c9-0d25-41db-805b-4937c5c7c8a2",
   "metadata": {},
   "outputs": [],
   "source": [
    "X_train, X_test, y_train, y_test = train_test_split(X,y,test_size=0.15, random_state=42) "
   ]
  },
  {
   "cell_type": "code",
   "execution_count": 67,
   "id": "dd2ab9d1-0213-4df0-ba00-63af4ea4845d",
   "metadata": {},
   "outputs": [],
   "source": [
    "from sklearn.preprocessing import StandardScaler\n",
    "scaler = StandardScaler()\n",
    "X_train_scaled = scaler.fit_transform(X_train)\n",
    "X_test_scaled = scaler.transform(X_test)"
   ]
  },
  {
   "cell_type": "code",
   "execution_count": 68,
   "id": "e72ad7d8-4131-42a3-92fe-c5a9bae37f32",
   "metadata": {},
   "outputs": [],
   "source": [
    "from imblearn.combine import SMOTETomek\n",
    "smoter = SMOTETomek(random_state=42)\n",
    "X_final, y_final = smoter.fit_resample(X_train_scaled, y_train)"
   ]
  },
  {
   "cell_type": "markdown",
   "id": "ad36ec02-a260-4cf8-b4c4-87037a108b10",
   "metadata": {},
   "source": [
    "<h3>Logistic Regression</h3>"
   ]
  },
  {
   "cell_type": "code",
   "execution_count": 69,
   "id": "990627d0-e24d-4eff-a136-dbd854cac996",
   "metadata": {},
   "outputs": [
    {
     "name": "stdout",
     "output_type": "stream",
     "text": [
      "              precision    recall  f1-score   support\n",
      "\n",
      "           0       0.55      0.41      0.47        29\n",
      "           1       0.67      0.38      0.49        26\n",
      "           2       0.44      0.54      0.48        13\n",
      "           3       0.45      0.60      0.51        15\n",
      "           4       0.46      0.75      0.57        16\n",
      "\n",
      "    accuracy                           0.51        99\n",
      "   macro avg       0.51      0.54      0.51        99\n",
      "weighted avg       0.54      0.51      0.50        99\n",
      "\n"
     ]
    }
   ],
   "source": [
    "model_lg = LogisticRegression(class_weight='balanced', multi_class='multinomial',penalty='l2', solver='saga', max_iter=30000)\n",
    "fn_ml.classify(model_lg, X_final, y_final, X_test_scaled, y_test)"
   ]
  },
  {
   "cell_type": "code",
   "execution_count": 70,
   "id": "83605110-8add-4794-a9c7-c6d781f6e7bb",
   "metadata": {},
   "outputs": [],
   "source": [
    "# fn_ml.cv(model_lg, X, y)"
   ]
  },
  {
   "cell_type": "markdown",
   "id": "21e3be23-5977-4419-b999-5f1d971f44e7",
   "metadata": {},
   "source": [
    "<h3>Random Forest</h3>"
   ]
  },
  {
   "cell_type": "code",
   "execution_count": 71,
   "id": "9ff1e6d7-1527-437e-976f-377af0a75532",
   "metadata": {},
   "outputs": [
    {
     "name": "stdout",
     "output_type": "stream",
     "text": [
      "              precision    recall  f1-score   support\n",
      "\n",
      "           0       0.50      0.59      0.54        29\n",
      "           1       0.83      0.19      0.31        26\n",
      "           2       0.60      0.69      0.64        13\n",
      "           3       0.53      0.60      0.56        15\n",
      "           4       0.48      0.81      0.60        16\n",
      "\n",
      "    accuracy                           0.54        99\n",
      "   macro avg       0.59      0.58      0.53        99\n",
      "weighted avg       0.60      0.54      0.51        99\n",
      "\n"
     ]
    }
   ],
   "source": [
    "model_rf = RandomForestClassifier(n_estimators=1000,class_weight='balanced', random_state=42)\n",
    "fn_ml.classify(model_rf, X_final, y_final, X_test_scaled, y_test)"
   ]
  },
  {
   "cell_type": "code",
   "execution_count": 72,
   "id": "1fd39d56-89ec-42ad-94a9-6d6938cfe016",
   "metadata": {},
   "outputs": [],
   "source": [
    "# fn_ml.cv(model_rf, X, y)"
   ]
  },
  {
   "cell_type": "markdown",
   "id": "fc309976-0538-41fe-8636-d3c1b689b151",
   "metadata": {},
   "source": [
    "<h3>Support Vector Machine</h3>"
   ]
  },
  {
   "cell_type": "code",
   "execution_count": 73,
   "id": "fa9fd9b2-9699-4538-922f-09b364b6f2b2",
   "metadata": {},
   "outputs": [
    {
     "name": "stdout",
     "output_type": "stream",
     "text": [
      "              precision    recall  f1-score   support\n",
      "\n",
      "           0       0.55      0.38      0.45        29\n",
      "           1       0.53      0.35      0.42        26\n",
      "           2       0.50      0.62      0.55        13\n",
      "           3       0.41      0.60      0.49        15\n",
      "           4       0.54      0.81      0.65        16\n",
      "\n",
      "    accuracy                           0.51        99\n",
      "   macro avg       0.51      0.55      0.51        99\n",
      "weighted avg       0.52      0.51      0.49        99\n",
      "\n"
     ]
    }
   ],
   "source": [
    "model_svm = SVC(kernel='sigmoid')\n",
    "fn_ml.classify(model_svm, X_final, y_final, X_test_scaled, y_test)"
   ]
  },
  {
   "cell_type": "code",
   "execution_count": 74,
   "id": "1d3c0bc9-d706-415a-9197-eaa59a0d35e9",
   "metadata": {},
   "outputs": [],
   "source": [
    "# fn_ml.cv(model_svm, X_final, y_final)"
   ]
  }
 ],
 "metadata": {
  "kernelspec": {
   "display_name": "Python 3 (ipykernel)",
   "language": "python",
   "name": "python3"
  },
  "language_info": {
   "codemirror_mode": {
    "name": "ipython",
    "version": 3
   },
   "file_extension": ".py",
   "mimetype": "text/x-python",
   "name": "python",
   "nbconvert_exporter": "python",
   "pygments_lexer": "ipython3",
   "version": "3.11.5"
  }
 },
 "nbformat": 4,
 "nbformat_minor": 5
}
